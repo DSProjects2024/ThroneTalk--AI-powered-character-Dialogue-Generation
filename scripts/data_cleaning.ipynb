{
 "cells": [
  {
   "cell_type": "code",
   "execution_count": 3,
   "metadata": {},
   "outputs": [],
   "source": [
    "import pandas as pd\n",
    "import numpy as np"
   ]
  },
  {
   "cell_type": "code",
   "execution_count": 4,
   "metadata": {},
   "outputs": [],
   "source": [
    "file_path = \"../data/game-of-thrones.csv\"\n",
    "got_df = pd.read_csv(file_path)"
   ]
  },
  {
   "cell_type": "code",
   "execution_count": 5,
   "metadata": {},
   "outputs": [
    {
     "data": {
      "text/plain": [
       "array(['season-01', 'season-02', 'season-03', 'season-04', 'season-05',\n",
       "       'season-06', 'season-07', 'season-08'], dtype=object)"
      ]
     },
     "execution_count": 5,
     "metadata": {},
     "output_type": "execute_result"
    }
   ],
   "source": [
    "got_df['Episode'].unique()\n",
    "got_df['Season'].unique()\n"
   ]
  },
  {
   "cell_type": "code",
   "execution_count": 6,
   "metadata": {},
   "outputs": [
    {
     "name": "stderr",
     "output_type": "stream",
     "text": [
      "C:\\Users\\Swarali\\AppData\\Local\\Temp\\ipykernel_19972\\1814052691.py:39: SettingWithCopyWarning: \n",
      "A value is trying to be set on a copy of a slice from a DataFrame\n",
      "\n",
      "See the caveats in the documentation: https://pandas.pydata.org/pandas-docs/stable/user_guide/indexing.html#returning-a-view-versus-a-copy\n",
      "  dialogue_df.drop_duplicates(inplace=True)\n"
     ]
    }
   ],
   "source": [
    "def get_episode_name(df, col_name, new_col_name):\n",
    "    try:\n",
    "        df[new_col_name] = df[col_name].str.split('-', expand=True)[1]\n",
    "        df[col_name] = df[col_name].str.split('-', expand=True)[0]\n",
    "    except:\n",
    "        df[new_col_name] = None\n",
    "\n",
    "    df['Episode_Number'] = df[col_name].apply(lambda x: int(x.split('-')[0].replace('e', '')))\n",
    "\n",
    "    return df\n",
    "\n",
    "def get_complete_dialogue(df):\n",
    "    df['Speaker'].replace(pd.NA, \"NARRATOR\", inplace=True)\n",
    "    df['Dialogue_complete'] = df['Speaker']+\":\"+df['Text']\n",
    "    df['Dialogue_complete'] = df['Dialogue_complete'].str.lstrip()\n",
    "    return df\n",
    "\n",
    "\n",
    "# split episode name and number\n",
    "epi_df  = get_episode_name(got_df, 'Episode', 'Episode_name')\n",
    "\n",
    "# join character and dialogue\n",
    "dialogue_df = get_complete_dialogue(epi_df)\n",
    "\n",
    "# remove cut-to because that has no dialogue just scene change\n",
    "dialogue_df = dialogue_df.loc[dialogue_df['Speaker'] != 'CUT TO']\n",
    "\n",
    "# check the number of episodes in every season\n",
    "episodes_in_seasons = dialogue_df.groupby('Season')['Episode_Number'].unique()\n",
    "\n",
    "# Remove the () from speaker which specifies the action of the character or dialogue is said to\n",
    "# if to in the () get the character and make it said to other character\n",
    "# if action add it to the action column\n",
    "# NARRATOR has [] strip that\n",
    "# episode name for last season\n",
    "\n",
    "\n",
    "# Removing Duplicates\n",
    "dialogue_df.drop_duplicates(inplace=True)\n",
    "\n",
    "# \n"
   ]
  },
  {
   "cell_type": "code",
   "execution_count": 7,
   "metadata": {},
   "outputs": [],
   "source": [
    "df = dialogue_df.groupby('Season')['Episode_name']"
   ]
  },
  {
   "cell_type": "code",
   "execution_count": 8,
   "metadata": {},
   "outputs": [
    {
     "data": {
      "text/plain": [
       "Season\n",
       "season-01    [1, 10, 2, 3, 4, 5, 6, 7, 8, 9]\n",
       "season-02    [1, 10, 2, 3, 4, 5, 6, 7, 8, 9]\n",
       "season-03    [1, 10, 2, 3, 4, 5, 6, 7, 8, 9]\n",
       "season-04    [1, 10, 2, 3, 4, 5, 6, 7, 8, 9]\n",
       "season-05    [1, 10, 2, 3, 4, 5, 6, 7, 8, 9]\n",
       "season-06    [1, 10, 2, 3, 4, 5, 6, 7, 8, 9]\n",
       "season-07              [1, 2, 3, 4, 5, 6, 7]\n",
       "season-08                 [1, 2, 3, 4, 5, 6]\n",
       "Name: Episode_Number, dtype: object"
      ]
     },
     "execution_count": 8,
     "metadata": {},
     "output_type": "execute_result"
    }
   ],
   "source": [
    "episodes_in_seasons"
   ]
  },
  {
   "cell_type": "code",
   "execution_count": 9,
   "metadata": {},
   "outputs": [
    {
     "data": {
      "text/html": [
       "<div>\n",
       "<style scoped>\n",
       "    .dataframe tbody tr th:only-of-type {\n",
       "        vertical-align: middle;\n",
       "    }\n",
       "\n",
       "    .dataframe tbody tr th {\n",
       "        vertical-align: top;\n",
       "    }\n",
       "\n",
       "    .dataframe thead th {\n",
       "        text-align: right;\n",
       "    }\n",
       "</style>\n",
       "<table border=\"1\" class=\"dataframe\">\n",
       "  <thead>\n",
       "    <tr style=\"text-align: right;\">\n",
       "      <th></th>\n",
       "      <th>Text</th>\n",
       "      <th>Speaker</th>\n",
       "      <th>Episode</th>\n",
       "      <th>Season</th>\n",
       "      <th>Show</th>\n",
       "      <th>Episode_name</th>\n",
       "      <th>Episode_Number</th>\n",
       "      <th>Dialogue_complete</th>\n",
       "    </tr>\n",
       "  </thead>\n",
       "  <tbody>\n",
       "    <tr>\n",
       "      <th>0</th>\n",
       "      <td>[First scene opens with three Rangers riding t...</td>\n",
       "      <td>NARRATOR</td>\n",
       "      <td>e1</td>\n",
       "      <td>season-01</td>\n",
       "      <td>Game-of-Thrones</td>\n",
       "      <td>Winter is Coming</td>\n",
       "      <td>1</td>\n",
       "      <td>NARRATOR:[First scene opens with three Rangers...</td>\n",
       "    </tr>\n",
       "    <tr>\n",
       "      <th>1</th>\n",
       "      <td>What d’you expect? They’re savages. One lot s...</td>\n",
       "      <td>WAYMAR ROYCE</td>\n",
       "      <td>e1</td>\n",
       "      <td>season-01</td>\n",
       "      <td>Game-of-Thrones</td>\n",
       "      <td>Winter is Coming</td>\n",
       "      <td>1</td>\n",
       "      <td>WAYMAR ROYCE: What d’you expect? They’re savag...</td>\n",
       "    </tr>\n",
       "    <tr>\n",
       "      <th>2</th>\n",
       "      <td>I’ve never seen wildlings do a thing like thi...</td>\n",
       "      <td>WILL</td>\n",
       "      <td>e1</td>\n",
       "      <td>season-01</td>\n",
       "      <td>Game-of-Thrones</td>\n",
       "      <td>Winter is Coming</td>\n",
       "      <td>1</td>\n",
       "      <td>WILL: I’ve never seen wildlings do a thing lik...</td>\n",
       "    </tr>\n",
       "    <tr>\n",
       "      <th>3</th>\n",
       "      <td>How close did you get?</td>\n",
       "      <td>WAYMAR ROYCE</td>\n",
       "      <td>e1</td>\n",
       "      <td>season-01</td>\n",
       "      <td>Game-of-Thrones</td>\n",
       "      <td>Winter is Coming</td>\n",
       "      <td>1</td>\n",
       "      <td>WAYMAR ROYCE: How close did you get?</td>\n",
       "    </tr>\n",
       "    <tr>\n",
       "      <th>4</th>\n",
       "      <td>Close as any man would.</td>\n",
       "      <td>WILL</td>\n",
       "      <td>e1</td>\n",
       "      <td>season-01</td>\n",
       "      <td>Game-of-Thrones</td>\n",
       "      <td>Winter is Coming</td>\n",
       "      <td>1</td>\n",
       "      <td>WILL: Close as any man would.</td>\n",
       "    </tr>\n",
       "    <tr>\n",
       "      <th>...</th>\n",
       "      <td>...</td>\n",
       "      <td>...</td>\n",
       "      <td>...</td>\n",
       "      <td>...</td>\n",
       "      <td>...</td>\n",
       "      <td>...</td>\n",
       "      <td>...</td>\n",
       "      <td>...</td>\n",
       "    </tr>\n",
       "    <tr>\n",
       "      <th>33191</th>\n",
       "      <td>Someone places a braided crown onto SANSA's he...</td>\n",
       "      <td>NARRATOR</td>\n",
       "      <td>e6</td>\n",
       "      <td>season-08</td>\n",
       "      <td>Game-of-Thrones</td>\n",
       "      <td>None</td>\n",
       "      <td>6</td>\n",
       "      <td>NARRATOR:Someone places a braided crown onto S...</td>\n",
       "    </tr>\n",
       "    <tr>\n",
       "      <th>33192</th>\n",
       "      <td>The Queen in the North!</td>\n",
       "      <td>MAN</td>\n",
       "      <td>e6</td>\n",
       "      <td>season-08</td>\n",
       "      <td>Game-of-Thrones</td>\n",
       "      <td>None</td>\n",
       "      <td>6</td>\n",
       "      <td>MAN: The Queen in the North!</td>\n",
       "    </tr>\n",
       "    <tr>\n",
       "      <th>33193</th>\n",
       "      <td>The Queen in the North! The Queen in the Nort...</td>\n",
       "      <td>ALL</td>\n",
       "      <td>e6</td>\n",
       "      <td>season-08</td>\n",
       "      <td>Game-of-Thrones</td>\n",
       "      <td>None</td>\n",
       "      <td>6</td>\n",
       "      <td>ALL: The Queen in the North! The Queen in the ...</td>\n",
       "    </tr>\n",
       "    <tr>\n",
       "      <th>33195</th>\n",
       "      <td>ARYA stands at the prow and the ship sails awa...</td>\n",
       "      <td>NARRATOR</td>\n",
       "      <td>e6</td>\n",
       "      <td>season-08</td>\n",
       "      <td>Game-of-Thrones</td>\n",
       "      <td>None</td>\n",
       "      <td>6</td>\n",
       "      <td>NARRATOR:ARYA stands at the prow and the ship ...</td>\n",
       "    </tr>\n",
       "    <tr>\n",
       "      <th>33197</th>\n",
       "      <td>JON rides through the tunnel, with TORMUND beh...</td>\n",
       "      <td>NARRATOR</td>\n",
       "      <td>e6</td>\n",
       "      <td>season-08</td>\n",
       "      <td>Game-of-Thrones</td>\n",
       "      <td>None</td>\n",
       "      <td>6</td>\n",
       "      <td>NARRATOR:JON rides through the tunnel, with TO...</td>\n",
       "    </tr>\n",
       "  </tbody>\n",
       "</table>\n",
       "<p>32483 rows × 8 columns</p>\n",
       "</div>"
      ],
      "text/plain": [
       "                                                    Text       Speaker  \\\n",
       "0      [First scene opens with three Rangers riding t...      NARRATOR   \n",
       "1       What d’you expect? They’re savages. One lot s...  WAYMAR ROYCE   \n",
       "2       I’ve never seen wildlings do a thing like thi...          WILL   \n",
       "3                                 How close did you get?  WAYMAR ROYCE   \n",
       "4                                Close as any man would.          WILL   \n",
       "...                                                  ...           ...   \n",
       "33191  Someone places a braided crown onto SANSA's he...      NARRATOR   \n",
       "33192                            The Queen in the North!           MAN   \n",
       "33193   The Queen in the North! The Queen in the Nort...           ALL   \n",
       "33195  ARYA stands at the prow and the ship sails awa...      NARRATOR   \n",
       "33197  JON rides through the tunnel, with TORMUND beh...      NARRATOR   \n",
       "\n",
       "      Episode     Season             Show      Episode_name  Episode_Number  \\\n",
       "0          e1  season-01  Game-of-Thrones  Winter is Coming               1   \n",
       "1          e1  season-01  Game-of-Thrones  Winter is Coming               1   \n",
       "2          e1  season-01  Game-of-Thrones  Winter is Coming               1   \n",
       "3          e1  season-01  Game-of-Thrones  Winter is Coming               1   \n",
       "4          e1  season-01  Game-of-Thrones  Winter is Coming               1   \n",
       "...       ...        ...              ...               ...             ...   \n",
       "33191      e6  season-08  Game-of-Thrones              None               6   \n",
       "33192      e6  season-08  Game-of-Thrones              None               6   \n",
       "33193      e6  season-08  Game-of-Thrones              None               6   \n",
       "33195      e6  season-08  Game-of-Thrones              None               6   \n",
       "33197      e6  season-08  Game-of-Thrones              None               6   \n",
       "\n",
       "                                       Dialogue_complete  \n",
       "0      NARRATOR:[First scene opens with three Rangers...  \n",
       "1      WAYMAR ROYCE: What d’you expect? They’re savag...  \n",
       "2      WILL: I’ve never seen wildlings do a thing lik...  \n",
       "3                   WAYMAR ROYCE: How close did you get?  \n",
       "4                          WILL: Close as any man would.  \n",
       "...                                                  ...  \n",
       "33191  NARRATOR:Someone places a braided crown onto S...  \n",
       "33192                       MAN: The Queen in the North!  \n",
       "33193  ALL: The Queen in the North! The Queen in the ...  \n",
       "33195  NARRATOR:ARYA stands at the prow and the ship ...  \n",
       "33197  NARRATOR:JON rides through the tunnel, with TO...  \n",
       "\n",
       "[32483 rows x 8 columns]"
      ]
     },
     "execution_count": 9,
     "metadata": {},
     "output_type": "execute_result"
    }
   ],
   "source": [
    "dialogue_df"
   ]
  },
  {
   "cell_type": "code",
   "execution_count": 23,
   "metadata": {},
   "outputs": [],
   "source": [
    "def get_list_of_characters(from_season, to_season=None, from_episode=None, to_episode=None, season_col='Season', episode_col='Episode_Number'):\n",
    "    print()\n",
    "    if to_season:\n",
    "        season_data = dialogue_df.loc[[dialogue_df[season_col].str.contains(from_season)] and [dialogue_df[season_col] < to_season]] \n",
    "    else:\n",
    "        season_data = dialogue_df.loc[[dialogue_df[season_col] == from_season]]\n",
    "    print(season_data)\n",
    "    # episode_data = season_data.loc[[season_data[episode_col].str.contains(from_episode)] and [season_data[episode_col].str.contains(to_episode)]]\n",
    "    # characters = episode_data['Speaker'].to_list()\n",
    "    # return characters"
   ]
  },
  {
   "cell_type": "code",
   "execution_count": 24,
   "metadata": {},
   "outputs": [
    {
     "name": "stdout",
     "output_type": "stream",
     "text": [
      "\n"
     ]
    },
    {
     "ename": "KeyError",
     "evalue": "\"None of [Index([(True, True, True, True, True, True, True, True, True, True, True, True, True, True, True, True, True, True, True, True, True, True, True, True, True, True, True, True, True, True, True, True, True, True, True, True, True, True, True, True, True, True, True, True, True, True, True, True, True, True, True, True, True, True, True, True, True, True, True, True, True, True, True, True, True, True, True, True, True, True, True, True, True, True, True, True, True, True, True, True, True, True, True, True, True, True, True, True, True, True, True, True, True, True, True, True, True, True, True, True, ...)], dtype='object')] are in the [index]\"",
     "output_type": "error",
     "traceback": [
      "\u001b[1;31m---------------------------------------------------------------------------\u001b[0m",
      "\u001b[1;31mKeyError\u001b[0m                                  Traceback (most recent call last)",
      "Cell \u001b[1;32mIn[24], line 1\u001b[0m\n\u001b[1;32m----> 1\u001b[0m get_list_of_characters(from_season\u001b[38;5;241m=\u001b[39m\u001b[38;5;124m'\u001b[39m\u001b[38;5;124mseason-01\u001b[39m\u001b[38;5;124m'\u001b[39m, to_season\u001b[38;5;241m=\u001b[39m\u001b[38;5;28;01mNone\u001b[39;00m, from_episode\u001b[38;5;241m=\u001b[39m\u001b[38;5;124m'\u001b[39m\u001b[38;5;124me1\u001b[39m\u001b[38;5;124m'\u001b[39m, to_episode\u001b[38;5;241m=\u001b[39m\u001b[38;5;124m'\u001b[39m\u001b[38;5;124me5\u001b[39m\u001b[38;5;124m'\u001b[39m, season_col\u001b[38;5;241m=\u001b[39m\u001b[38;5;124m'\u001b[39m\u001b[38;5;124mSeason\u001b[39m\u001b[38;5;124m'\u001b[39m, episode_col\u001b[38;5;241m=\u001b[39m\u001b[38;5;124m'\u001b[39m\u001b[38;5;124mEpisode\u001b[39m\u001b[38;5;124m'\u001b[39m)\n",
      "Cell \u001b[1;32mIn[23], line 6\u001b[0m, in \u001b[0;36mget_list_of_characters\u001b[1;34m(from_season, to_season, from_episode, to_episode, season_col, episode_col)\u001b[0m\n\u001b[0;32m      4\u001b[0m     season_data \u001b[38;5;241m=\u001b[39m dialogue_df\u001b[38;5;241m.\u001b[39mloc[[dialogue_df[season_col] \u001b[38;5;241m>\u001b[39m from_season] \u001b[38;5;129;01mand\u001b[39;00m [dialogue_df[season_col] \u001b[38;5;241m<\u001b[39m to_season]] \n\u001b[0;32m      5\u001b[0m \u001b[38;5;28;01melse\u001b[39;00m:\n\u001b[1;32m----> 6\u001b[0m     season_data \u001b[38;5;241m=\u001b[39m dialogue_df\u001b[38;5;241m.\u001b[39mloc[[dialogue_df[season_col] \u001b[38;5;241m==\u001b[39m from_season]]\n\u001b[0;32m      7\u001b[0m \u001b[38;5;28mprint\u001b[39m(season_data)\n",
      "File \u001b[1;32mc:\\Users\\Swarali\\anaconda3\\Lib\\site-packages\\pandas\\core\\indexing.py:1073\u001b[0m, in \u001b[0;36m_LocationIndexer.__getitem__\u001b[1;34m(self, key)\u001b[0m\n\u001b[0;32m   1070\u001b[0m axis \u001b[38;5;241m=\u001b[39m \u001b[38;5;28mself\u001b[39m\u001b[38;5;241m.\u001b[39maxis \u001b[38;5;129;01mor\u001b[39;00m \u001b[38;5;241m0\u001b[39m\n\u001b[0;32m   1072\u001b[0m maybe_callable \u001b[38;5;241m=\u001b[39m com\u001b[38;5;241m.\u001b[39mapply_if_callable(key, \u001b[38;5;28mself\u001b[39m\u001b[38;5;241m.\u001b[39mobj)\n\u001b[1;32m-> 1073\u001b[0m \u001b[38;5;28;01mreturn\u001b[39;00m \u001b[38;5;28mself\u001b[39m\u001b[38;5;241m.\u001b[39m_getitem_axis(maybe_callable, axis\u001b[38;5;241m=\u001b[39maxis)\n",
      "File \u001b[1;32mc:\\Users\\Swarali\\anaconda3\\Lib\\site-packages\\pandas\\core\\indexing.py:1301\u001b[0m, in \u001b[0;36m_LocIndexer._getitem_axis\u001b[1;34m(self, key, axis)\u001b[0m\n\u001b[0;32m   1298\u001b[0m     \u001b[38;5;28;01mif\u001b[39;00m \u001b[38;5;28mhasattr\u001b[39m(key, \u001b[38;5;124m\"\u001b[39m\u001b[38;5;124mndim\u001b[39m\u001b[38;5;124m\"\u001b[39m) \u001b[38;5;129;01mand\u001b[39;00m key\u001b[38;5;241m.\u001b[39mndim \u001b[38;5;241m>\u001b[39m \u001b[38;5;241m1\u001b[39m:\n\u001b[0;32m   1299\u001b[0m         \u001b[38;5;28;01mraise\u001b[39;00m \u001b[38;5;167;01mValueError\u001b[39;00m(\u001b[38;5;124m\"\u001b[39m\u001b[38;5;124mCannot index with multidimensional key\u001b[39m\u001b[38;5;124m\"\u001b[39m)\n\u001b[1;32m-> 1301\u001b[0m     \u001b[38;5;28;01mreturn\u001b[39;00m \u001b[38;5;28mself\u001b[39m\u001b[38;5;241m.\u001b[39m_getitem_iterable(key, axis\u001b[38;5;241m=\u001b[39maxis)\n\u001b[0;32m   1303\u001b[0m \u001b[38;5;66;03m# nested tuple slicing\u001b[39;00m\n\u001b[0;32m   1304\u001b[0m \u001b[38;5;28;01mif\u001b[39;00m is_nested_tuple(key, labels):\n",
      "File \u001b[1;32mc:\\Users\\Swarali\\anaconda3\\Lib\\site-packages\\pandas\\core\\indexing.py:1239\u001b[0m, in \u001b[0;36m_LocIndexer._getitem_iterable\u001b[1;34m(self, key, axis)\u001b[0m\n\u001b[0;32m   1236\u001b[0m \u001b[38;5;28mself\u001b[39m\u001b[38;5;241m.\u001b[39m_validate_key(key, axis)\n\u001b[0;32m   1238\u001b[0m \u001b[38;5;66;03m# A collection of keys\u001b[39;00m\n\u001b[1;32m-> 1239\u001b[0m keyarr, indexer \u001b[38;5;241m=\u001b[39m \u001b[38;5;28mself\u001b[39m\u001b[38;5;241m.\u001b[39m_get_listlike_indexer(key, axis)\n\u001b[0;32m   1240\u001b[0m \u001b[38;5;28;01mreturn\u001b[39;00m \u001b[38;5;28mself\u001b[39m\u001b[38;5;241m.\u001b[39mobj\u001b[38;5;241m.\u001b[39m_reindex_with_indexers(\n\u001b[0;32m   1241\u001b[0m     {axis: [keyarr, indexer]}, copy\u001b[38;5;241m=\u001b[39m\u001b[38;5;28;01mTrue\u001b[39;00m, allow_dups\u001b[38;5;241m=\u001b[39m\u001b[38;5;28;01mTrue\u001b[39;00m\n\u001b[0;32m   1242\u001b[0m )\n",
      "File \u001b[1;32mc:\\Users\\Swarali\\anaconda3\\Lib\\site-packages\\pandas\\core\\indexing.py:1432\u001b[0m, in \u001b[0;36m_LocIndexer._get_listlike_indexer\u001b[1;34m(self, key, axis)\u001b[0m\n\u001b[0;32m   1429\u001b[0m ax \u001b[38;5;241m=\u001b[39m \u001b[38;5;28mself\u001b[39m\u001b[38;5;241m.\u001b[39mobj\u001b[38;5;241m.\u001b[39m_get_axis(axis)\n\u001b[0;32m   1430\u001b[0m axis_name \u001b[38;5;241m=\u001b[39m \u001b[38;5;28mself\u001b[39m\u001b[38;5;241m.\u001b[39mobj\u001b[38;5;241m.\u001b[39m_get_axis_name(axis)\n\u001b[1;32m-> 1432\u001b[0m keyarr, indexer \u001b[38;5;241m=\u001b[39m ax\u001b[38;5;241m.\u001b[39m_get_indexer_strict(key, axis_name)\n\u001b[0;32m   1434\u001b[0m \u001b[38;5;28;01mreturn\u001b[39;00m keyarr, indexer\n",
      "File \u001b[1;32mc:\\Users\\Swarali\\anaconda3\\Lib\\site-packages\\pandas\\core\\indexes\\base.py:6070\u001b[0m, in \u001b[0;36mIndex._get_indexer_strict\u001b[1;34m(self, key, axis_name)\u001b[0m\n\u001b[0;32m   6067\u001b[0m \u001b[38;5;28;01melse\u001b[39;00m:\n\u001b[0;32m   6068\u001b[0m     keyarr, indexer, new_indexer \u001b[38;5;241m=\u001b[39m \u001b[38;5;28mself\u001b[39m\u001b[38;5;241m.\u001b[39m_reindex_non_unique(keyarr)\n\u001b[1;32m-> 6070\u001b[0m \u001b[38;5;28mself\u001b[39m\u001b[38;5;241m.\u001b[39m_raise_if_missing(keyarr, indexer, axis_name)\n\u001b[0;32m   6072\u001b[0m keyarr \u001b[38;5;241m=\u001b[39m \u001b[38;5;28mself\u001b[39m\u001b[38;5;241m.\u001b[39mtake(indexer)\n\u001b[0;32m   6073\u001b[0m \u001b[38;5;28;01mif\u001b[39;00m \u001b[38;5;28misinstance\u001b[39m(key, Index):\n\u001b[0;32m   6074\u001b[0m     \u001b[38;5;66;03m# GH 42790 - Preserve name from an Index\u001b[39;00m\n",
      "File \u001b[1;32mc:\\Users\\Swarali\\anaconda3\\Lib\\site-packages\\pandas\\core\\indexes\\base.py:6130\u001b[0m, in \u001b[0;36mIndex._raise_if_missing\u001b[1;34m(self, key, indexer, axis_name)\u001b[0m\n\u001b[0;32m   6128\u001b[0m     \u001b[38;5;28;01mif\u001b[39;00m use_interval_msg:\n\u001b[0;32m   6129\u001b[0m         key \u001b[38;5;241m=\u001b[39m \u001b[38;5;28mlist\u001b[39m(key)\n\u001b[1;32m-> 6130\u001b[0m     \u001b[38;5;28;01mraise\u001b[39;00m \u001b[38;5;167;01mKeyError\u001b[39;00m(\u001b[38;5;124mf\u001b[39m\u001b[38;5;124m\"\u001b[39m\u001b[38;5;124mNone of [\u001b[39m\u001b[38;5;132;01m{\u001b[39;00mkey\u001b[38;5;132;01m}\u001b[39;00m\u001b[38;5;124m] are in the [\u001b[39m\u001b[38;5;132;01m{\u001b[39;00maxis_name\u001b[38;5;132;01m}\u001b[39;00m\u001b[38;5;124m]\u001b[39m\u001b[38;5;124m\"\u001b[39m)\n\u001b[0;32m   6132\u001b[0m not_found \u001b[38;5;241m=\u001b[39m \u001b[38;5;28mlist\u001b[39m(ensure_index(key)[missing_mask\u001b[38;5;241m.\u001b[39mnonzero()[\u001b[38;5;241m0\u001b[39m]]\u001b[38;5;241m.\u001b[39munique())\n\u001b[0;32m   6133\u001b[0m \u001b[38;5;28;01mraise\u001b[39;00m \u001b[38;5;167;01mKeyError\u001b[39;00m(\u001b[38;5;124mf\u001b[39m\u001b[38;5;124m\"\u001b[39m\u001b[38;5;132;01m{\u001b[39;00mnot_found\u001b[38;5;132;01m}\u001b[39;00m\u001b[38;5;124m not in index\u001b[39m\u001b[38;5;124m\"\u001b[39m)\n",
      "\u001b[1;31mKeyError\u001b[0m: \"None of [Index([(True, True, True, True, True, True, True, True, True, True, True, True, True, True, True, True, True, True, True, True, True, True, True, True, True, True, True, True, True, True, True, True, True, True, True, True, True, True, True, True, True, True, True, True, True, True, True, True, True, True, True, True, True, True, True, True, True, True, True, True, True, True, True, True, True, True, True, True, True, True, True, True, True, True, True, True, True, True, True, True, True, True, True, True, True, True, True, True, True, True, True, True, True, True, True, True, True, True, True, True, ...)], dtype='object')] are in the [index]\""
     ]
    }
   ],
   "source": [
    "get_list_of_characters(from_season='season-01', to_season=None, from_episode='e1', to_episode='e5', season_col='Season', episode_col='Episode')"
   ]
  },
  {
   "cell_type": "code",
   "execution_count": null,
   "metadata": {},
   "outputs": [],
   "source": []
  }
 ],
 "metadata": {
  "kernelspec": {
   "display_name": "base",
   "language": "python",
   "name": "python3"
  },
  "language_info": {
   "codemirror_mode": {
    "name": "ipython",
    "version": 3
   },
   "file_extension": ".py",
   "mimetype": "text/x-python",
   "name": "python",
   "nbconvert_exporter": "python",
   "pygments_lexer": "ipython3",
   "version": "3.11.5"
  }
 },
 "nbformat": 4,
 "nbformat_minor": 2
}
