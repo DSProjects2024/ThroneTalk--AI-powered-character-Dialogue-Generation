{
 "cells": [
  {
   "cell_type": "code",
   "execution_count": 5,
   "id": "89a8d54f",
   "metadata": {},
   "outputs": [
    {
     "data": {
      "text/html": [
       "<script>\n",
       "code_show=true; \n",
       "function code_toggle() {\n",
       " if (code_show){\n",
       " $('div.input').hide();\n",
       " } else {\n",
       " $('div.input').show();\n",
       " }\n",
       " code_show = !code_show\n",
       "} \n",
       "$( document ).ready(code_toggle);\n",
       "</script>\n",
       "<form action=\"javascript:code_toggle()\"><input type=\"submit\" value=\"Click here to toggle on/off the raw code.\"></form>"
      ],
      "text/plain": [
       "<IPython.core.display.HTML object>"
      ]
     },
     "execution_count": 5,
     "metadata": {},
     "output_type": "execute_result"
    }
   ],
   "source": [
    "from IPython.display import HTML\n",
    "\n",
    "HTML('''<script>\n",
    "code_show=true;\n",
    "function code_toggle() {\n",
    " if (code_show){\n",
    " $('div.input').hide();\n",
    " } else {\n",
    " $('div.input').show();\n",
    " }\n",
    " code_show = !code_show\n",
    "}\n",
    "$( document ).ready(code_toggle);\n",
    "</script>\n",
    "<form action=\"javascript:code_toggle()\"><input type=\"submit\" value=\"Click here to toggle on/off the raw code.\"></form>''')"
   ]
  },
  {
   "cell_type": "markdown",
   "id": "6d8a9247-327f-4dae-8620-7c2c0cfe4c9f",
   "metadata": {},
   "source": [
    "## Overview"
   ]
  },
  {
   "cell_type": "markdown",
   "id": "53291321",
   "metadata": {},
   "source": [
    "We gathered data from Kaggle for the game of thrones TV show. This data has dialogues data for every character in each episode.\n",
    "[Dialogues for each character data](https://www.kaggle.com/datasets/gopinath15/gameofthrones). We also scrapped the IMDb data from the web using the ```get_metadata.py``` script. The IMDb data has the character level information, season images, viewer rating etc.\n",
    "\n",
    "Using the two data source we clean and reformat the data. We also map the correct characters for every dialogue spoken by joining the two datasets. We also format the episode and season naming as per our requirement for the UI."
   ]
  },
  {
   "cell_type": "markdown",
   "id": "76bfdd6a-ae72-4675-a1c2-411921fe4a00",
   "metadata": {},
   "source": [
    "### Data Profile"
   ]
  },
  {
   "cell_type": "markdown",
   "id": "d730c2fe-8eac-4590-bb8c-0f3885306300",
   "metadata": {},
   "source": [
    "The raw data from Kaggle is stored in ```game-of-thrones.csv``` and the cleaned data csv is located at ```output_dialogues.csv``` in the data folder"
   ]
  },
  {
   "cell_type": "code",
   "execution_count": 2,
   "id": "2e7dac8e",
   "metadata": {},
   "outputs": [],
   "source": [
    "import pandas as pd\n",
    "\n",
    "df_raw = pd.read_csv(\"../thronetalk-game-of-thrones-summarizer/data/game-of-thrones.csv\")\n",
    "df_cleaned = pd.read_csv(\"../thronetalk-game-of-thrones-summarizer/data/ouput_dialogues.csv\")"
   ]
  },
  {
   "cell_type": "markdown",
   "id": "bd40b7e9",
   "metadata": {},
   "source": [
    "### Raw data"
   ]
  },
  {
   "cell_type": "code",
   "execution_count": 3,
   "id": "f16afe86",
   "metadata": {},
   "outputs": [
    {
     "data": {
      "text/html": [
       "<div>\n",
       "<style scoped>\n",
       "    .dataframe tbody tr th:only-of-type {\n",
       "        vertical-align: middle;\n",
       "    }\n",
       "\n",
       "    .dataframe tbody tr th {\n",
       "        vertical-align: top;\n",
       "    }\n",
       "\n",
       "    .dataframe thead th {\n",
       "        text-align: right;\n",
       "    }\n",
       "</style>\n",
       "<table border=\"1\" class=\"dataframe\">\n",
       "  <thead>\n",
       "    <tr style=\"text-align: right;\">\n",
       "      <th></th>\n",
       "      <th>Text</th>\n",
       "      <th>Speaker</th>\n",
       "      <th>Episode</th>\n",
       "      <th>Season</th>\n",
       "      <th>Show</th>\n",
       "    </tr>\n",
       "  </thead>\n",
       "  <tbody>\n",
       "    <tr>\n",
       "      <th>0</th>\n",
       "      <td>[First scene opens with three Rangers riding t...</td>\n",
       "      <td>NaN</td>\n",
       "      <td>e1-Winter is Coming</td>\n",
       "      <td>season-01</td>\n",
       "      <td>Game-of-Thrones</td>\n",
       "    </tr>\n",
       "    <tr>\n",
       "      <th>1</th>\n",
       "      <td>What d’you expect? They’re savages. One lot s...</td>\n",
       "      <td>WAYMAR ROYCE</td>\n",
       "      <td>e1-Winter is Coming</td>\n",
       "      <td>season-01</td>\n",
       "      <td>Game-of-Thrones</td>\n",
       "    </tr>\n",
       "    <tr>\n",
       "      <th>2</th>\n",
       "      <td>I’ve never seen wildlings do a thing like thi...</td>\n",
       "      <td>WILL</td>\n",
       "      <td>e1-Winter is Coming</td>\n",
       "      <td>season-01</td>\n",
       "      <td>Game-of-Thrones</td>\n",
       "    </tr>\n",
       "    <tr>\n",
       "      <th>3</th>\n",
       "      <td>How close did you get?</td>\n",
       "      <td>WAYMAR ROYCE</td>\n",
       "      <td>e1-Winter is Coming</td>\n",
       "      <td>season-01</td>\n",
       "      <td>Game-of-Thrones</td>\n",
       "    </tr>\n",
       "    <tr>\n",
       "      <th>4</th>\n",
       "      <td>Close as any man would.</td>\n",
       "      <td>WILL</td>\n",
       "      <td>e1-Winter is Coming</td>\n",
       "      <td>season-01</td>\n",
       "      <td>Game-of-Thrones</td>\n",
       "    </tr>\n",
       "  </tbody>\n",
       "</table>\n",
       "</div>"
      ],
      "text/plain": [
       "                                                Text       Speaker  \\\n",
       "0  [First scene opens with three Rangers riding t...           NaN   \n",
       "1   What d’you expect? They’re savages. One lot s...  WAYMAR ROYCE   \n",
       "2   I’ve never seen wildlings do a thing like thi...          WILL   \n",
       "3                             How close did you get?  WAYMAR ROYCE   \n",
       "4                            Close as any man would.          WILL   \n",
       "\n",
       "               Episode     Season             Show  \n",
       "0  e1-Winter is Coming  season-01  Game-of-Thrones  \n",
       "1  e1-Winter is Coming  season-01  Game-of-Thrones  \n",
       "2  e1-Winter is Coming  season-01  Game-of-Thrones  \n",
       "3  e1-Winter is Coming  season-01  Game-of-Thrones  \n",
       "4  e1-Winter is Coming  season-01  Game-of-Thrones  "
      ]
     },
     "execution_count": 3,
     "metadata": {},
     "output_type": "execute_result"
    }
   ],
   "source": [
    "df_raw.head()"
   ]
  },
  {
   "cell_type": "markdown",
   "id": "38dc19bc",
   "metadata": {},
   "source": [
    "### Cleaned data\n",
    "\n",
    "The cleaned data gets rid of Nans for speaker name. We also observed a few speakers had just the first name and no last name which created repeat characters. After joining the IMDb data we were able to remove this issue and get a unique list of characters with first and last name."
   ]
  },
  {
   "cell_type": "code",
   "execution_count": 4,
   "id": "f213e11e",
   "metadata": {},
   "outputs": [
    {
     "data": {
      "text/html": [
       "<div>\n",
       "<style scoped>\n",
       "    .dataframe tbody tr th:only-of-type {\n",
       "        vertical-align: middle;\n",
       "    }\n",
       "\n",
       "    .dataframe tbody tr th {\n",
       "        vertical-align: top;\n",
       "    }\n",
       "\n",
       "    .dataframe thead th {\n",
       "        text-align: right;\n",
       "    }\n",
       "</style>\n",
       "<table border=\"1\" class=\"dataframe\">\n",
       "  <thead>\n",
       "    <tr style=\"text-align: right;\">\n",
       "      <th></th>\n",
       "      <th>Unnamed: 0</th>\n",
       "      <th>Text</th>\n",
       "      <th>Speaker</th>\n",
       "      <th>Episode</th>\n",
       "      <th>Season</th>\n",
       "      <th>Show</th>\n",
       "      <th>Episode_name</th>\n",
       "      <th>Episode_Number</th>\n",
       "      <th>Season_Number</th>\n",
       "      <th>dialogue_with_speaker</th>\n",
       "      <th>Character</th>\n",
       "    </tr>\n",
       "  </thead>\n",
       "  <tbody>\n",
       "    <tr>\n",
       "      <th>0</th>\n",
       "      <td>0</td>\n",
       "      <td>[First scene opens with three Rangers riding t...</td>\n",
       "      <td>narrator</td>\n",
       "      <td>e1</td>\n",
       "      <td>season-01</td>\n",
       "      <td>Game-of-Thrones</td>\n",
       "      <td>NaN</td>\n",
       "      <td>1</td>\n",
       "      <td>1</td>\n",
       "      <td>NARRATOR:First scene opens with three Rangers ...</td>\n",
       "      <td>narrator</td>\n",
       "    </tr>\n",
       "    <tr>\n",
       "      <th>1</th>\n",
       "      <td>1</td>\n",
       "      <td>What d’you expect? They’re savages. One lot s...</td>\n",
       "      <td>waymar</td>\n",
       "      <td>e1</td>\n",
       "      <td>season-01</td>\n",
       "      <td>Game-of-Thrones</td>\n",
       "      <td>NaN</td>\n",
       "      <td>1</td>\n",
       "      <td>1</td>\n",
       "      <td>WAYMAR ROYCE: What d’you expect? They’re savag...</td>\n",
       "      <td>waymar royce</td>\n",
       "    </tr>\n",
       "    <tr>\n",
       "      <th>2</th>\n",
       "      <td>2</td>\n",
       "      <td>I’ve never seen wildlings do a thing like thi...</td>\n",
       "      <td>will</td>\n",
       "      <td>e1</td>\n",
       "      <td>season-01</td>\n",
       "      <td>Game-of-Thrones</td>\n",
       "      <td>NaN</td>\n",
       "      <td>1</td>\n",
       "      <td>1</td>\n",
       "      <td>WILL: I’ve never seen wildlings do a thing lik...</td>\n",
       "      <td>will</td>\n",
       "    </tr>\n",
       "    <tr>\n",
       "      <th>3</th>\n",
       "      <td>3</td>\n",
       "      <td>How close did you get?</td>\n",
       "      <td>waymar</td>\n",
       "      <td>e1</td>\n",
       "      <td>season-01</td>\n",
       "      <td>Game-of-Thrones</td>\n",
       "      <td>NaN</td>\n",
       "      <td>1</td>\n",
       "      <td>1</td>\n",
       "      <td>WAYMAR ROYCE: How close did you get?</td>\n",
       "      <td>waymar royce</td>\n",
       "    </tr>\n",
       "    <tr>\n",
       "      <th>4</th>\n",
       "      <td>4</td>\n",
       "      <td>Close as any man would.</td>\n",
       "      <td>will</td>\n",
       "      <td>e1</td>\n",
       "      <td>season-01</td>\n",
       "      <td>Game-of-Thrones</td>\n",
       "      <td>NaN</td>\n",
       "      <td>1</td>\n",
       "      <td>1</td>\n",
       "      <td>WILL: Close as any man would.</td>\n",
       "      <td>will</td>\n",
       "    </tr>\n",
       "  </tbody>\n",
       "</table>\n",
       "</div>"
      ],
      "text/plain": [
       "   Unnamed: 0                                               Text   Speaker  \\\n",
       "0           0  [First scene opens with three Rangers riding t...  narrator   \n",
       "1           1   What d’you expect? They’re savages. One lot s...    waymar   \n",
       "2           2   I’ve never seen wildlings do a thing like thi...      will   \n",
       "3           3                             How close did you get?    waymar   \n",
       "4           4                            Close as any man would.      will   \n",
       "\n",
       "  Episode     Season             Show  Episode_name  Episode_Number  \\\n",
       "0      e1  season-01  Game-of-Thrones           NaN               1   \n",
       "1      e1  season-01  Game-of-Thrones           NaN               1   \n",
       "2      e1  season-01  Game-of-Thrones           NaN               1   \n",
       "3      e1  season-01  Game-of-Thrones           NaN               1   \n",
       "4      e1  season-01  Game-of-Thrones           NaN               1   \n",
       "\n",
       "   Season_Number                              dialogue_with_speaker  \\\n",
       "0              1  NARRATOR:First scene opens with three Rangers ...   \n",
       "1              1  WAYMAR ROYCE: What d’you expect? They’re savag...   \n",
       "2              1  WILL: I’ve never seen wildlings do a thing lik...   \n",
       "3              1               WAYMAR ROYCE: How close did you get?   \n",
       "4              1                      WILL: Close as any man would.   \n",
       "\n",
       "      Character  \n",
       "0      narrator  \n",
       "1  waymar royce  \n",
       "2          will  \n",
       "3  waymar royce  \n",
       "4          will  "
      ]
     },
     "execution_count": 4,
     "metadata": {},
     "output_type": "execute_result"
    }
   ],
   "source": [
    "df_cleaned.head()"
   ]
  },
  {
   "cell_type": "markdown",
   "id": "f38b247c-ad89-4386-95d8-6fddb8111aec",
   "metadata": {},
   "source": [
    "The final dialogue data, ```ouput_dialogues```, is then stored as a ```.csv``` file in ```'.thronetalk-game-of-thrones-summarizer/data'```"
   ]
  },
  {
   "cell_type": "markdown",
   "id": "f0a7651e-8e02-40d3-ba74-8f93ea7a697c",
   "metadata": {},
   "source": [
    " ####"
   ]
  },
  {
   "cell_type": "markdown",
   "id": "b09bc57f-ec08-4df2-96f0-8bed5b74568e",
   "metadata": {},
   "source": [
    "### IMDb Metadata -------- TODO Change"
   ]
  },
  {
   "cell_type": "markdown",
   "id": "48248bd1-a80f-4fc1-985e-c756113eb37c",
   "metadata": {},
   "source": [
    "Our ```metadata.csv``` dataset contains basic and advances metadata for each episode of Seinfeld. Basic IMDb metadata is parsed and cleaned by ```load_data.py``` from [IMDb Interfaces](https://www.IMDb.com/interfaces/). We then call ```_scrape_epi_pages.py``` and use the Python ```requests``` to scrape episode descriptions, user-generated plot summaries, and user-generated plot keywords from the IMDb pages of each episode."
   ]
  },
  {
   "cell_type": "markdown",
   "id": "a48c86b4-6cde-4f1c-a3b4-b42153e515cb",
   "metadata": {},
   "source": [
    "##"
   ]
  }
 ],
 "metadata": {
  "kernelspec": {
   "display_name": "Python 3 (ipykernel)",
   "language": "python",
   "name": "python3"
  },
  "language_info": {
   "codemirror_mode": {
    "name": "ipython",
    "version": 3
   },
   "file_extension": ".py",
   "mimetype": "text/x-python",
   "name": "python",
   "nbconvert_exporter": "python",
   "pygments_lexer": "ipython3",
   "version": "3.9.13"
  }
 },
 "nbformat": 4,
 "nbformat_minor": 5
}
